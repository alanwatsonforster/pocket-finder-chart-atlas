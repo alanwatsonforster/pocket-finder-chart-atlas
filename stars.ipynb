{
  "nbformat": 4,
  "nbformat_minor": 0,
  "metadata": {
    "colab": {
      "name": "stars.ipynb",
      "provenance": [],
      "collapsed_sections": []
    },
    "kernelspec": {
      "name": "python3",
      "display_name": "Python 3"
    },
    "language_info": {
      "name": "python"
    }
  },
  "cells": [
    {
      "cell_type": "code",
      "execution_count": null,
      "metadata": {
        "id": "jKkjaYwWDEQQ"
      },
      "outputs": [],
      "source": [
        ""
      ]
    },
    {
      "cell_type": "markdown",
      "source": [
        "# Introduction\n",
        "\n",
        "This notebook prepares the stellar catalog for the [Pocket Finder-Chart Atlas](https://github.com/alanwatsonforster/pocket-finder-chart-atlas)."
      ],
      "metadata": {
        "id": "RDjkbuBVDJhG"
      }
    },
    {
      "cell_type": "markdown",
      "source": [
        "# Instructions\n",
        "\n",
        "1. Run this code.\n",
        "\n",
        "2. Download stars.fits."
      ],
      "metadata": {
        "id": "3LEpuR7czVzM"
      }
    },
    {
      "cell_type": "markdown",
      "source": [
        "# Prolog"
      ],
      "metadata": {
        "id": "RjcUw99dE4Gr"
      }
    },
    {
      "cell_type": "code",
      "source": [
        "import os\n",
        "\n",
        "import math\n",
        "\n",
        "import numpy as np\n",
        "\n",
        "from astropy.table import Table"
      ],
      "metadata": {
        "id": "SMEFodwIE8V_"
      },
      "execution_count": 1,
      "outputs": []
    },
    {
      "cell_type": "markdown",
      "source": [
        "We use the Tycho-2 catalog. This is 99% complete to V_T = 11.0, which is deep enough for our needs.\n",
        "\n",
        "An alternative would be to use the Gaia catalog. However, this is much deeper, and hence larger, than we need."
      ],
      "metadata": {
        "id": "I-43UlWmFVDw"
      }
    },
    {
      "cell_type": "markdown",
      "source": [
        "Download the catalog data from [CDS](https://cdsarc.cds.unistra.fr/viz-bin/cat/I/259#/browse) and unpack it."
      ],
      "metadata": {
        "id": "AM6jfURWFd-i"
      }
    },
    {
      "cell_type": "code",
      "source": [
        "!test -f l_259.tar.gz || curl -o l_259.tar.gz https://cdsarc.cds.unistra.fr/viz-bin/nph-Cat/tar.gz?I/259\n",
        "!test -f tyc2.dat.00.gz || tar -xzf l_259.tar.gz\n",
        "!test -f tyc2.dat || gunzip -c tyc2.dat.*.gz >tyc2.dat\n",
        "!test -f suppl_1.dat || gunzip -c suppl_1.dat.gz >suppl_1.dat\n",
        "!test -f suppl_2.dat || gunzip -c suppl_2.dat.gz >suppl_2.dat\n",
        "!ls -l *.dat"
      ],
      "metadata": {
        "colab": {
          "base_uri": "https://localhost:8080/"
        },
        "id": "Z1hX7SAuFUxQ",
        "outputId": "951786c1-fe1d-4be6-8925-93b65edccea0"
      },
      "execution_count": 2,
      "outputs": [
        {
          "output_type": "stream",
          "name": "stdout",
          "text": [
            "  % Total    % Received % Xferd  Average Speed   Time    Time     Time  Current\n",
            "                                 Dload  Upload   Total   Spent    Left  Speed\n",
            "100  160M    0  160M    0     0  24.6M      0 --:--:--  0:00:06 --:--:-- 26.0M\n",
            "-rw-r--r-- 1 root root   2163324 Mar 21 23:36 suppl_1.dat\n",
            "-rw-r--r-- 1 root root    132936 Mar 21 23:36 suppl_2.dat\n",
            "-rw-r--r-- 1 root root 525761991 Mar 21 23:36 tyc2.dat\n"
          ]
        }
      ]
    },
    {
      "cell_type": "markdown",
      "source": [
        "Convert the ASCII files into FITS tables."
      ],
      "metadata": {
        "id": "SoKPuyYoFn8t"
      }
    },
    {
      "cell_type": "code",
      "source": [
        "if not os.path.exists(\"tyc2.fits\"):\n",
        "  t = Table.read(\"tyc2.dat\", readme=\"ReadMe\", format=\"ascii.cds\")\n",
        "  t.write(\"tyc2.fits\")\n",
        "if not os.path.exists(\"suppl_1.fits\"):\n",
        "  t = Table.read(\"suppl_1.dat\", readme=\"ReadMe\", format=\"ascii.cds\")\n",
        "  t.write(\"suppl_1.fits\")\n",
        "if not os.path.exists(\"suppl_2.fits\"):\n",
        "  t = Table.read(\"suppl_2.dat\", readme=\"ReadMe\", format=\"ascii.cds\")\n",
        "  t.write(\"suppl_2.fits\")\n",
        "!ls -l *.fits"
      ],
      "metadata": {
        "colab": {
          "base_uri": "https://localhost:8080/"
        },
        "id": "kxuAocdQFTla",
        "outputId": "9799a333-1cc8-494a-cc47-f41acd2d8466"
      },
      "execution_count": 3,
      "outputs": [
        {
          "output_type": "stream",
          "name": "stdout",
          "text": [
            "-rw-r--r-- 1 root root   2476800 Mar 21 23:38 suppl_1.fits\n",
            "-rw-r--r-- 1 root root    175680 Mar 21 23:38 suppl_2.fits\n",
            "-rw-r--r-- 1 root root 645157440 Mar 21 23:38 tyc2.fits\n"
          ]
        }
      ]
    },
    {
      "cell_type": "code",
      "source": [
        "tyc2 = Table.read(\"tyc2.fits\")\n",
        "tyc2s1 = Table.read(\"suppl_1.fits\")\n",
        "print(tyc2.info)\n",
        "print(tyc2s1.info)"
      ],
      "metadata": {
        "colab": {
          "base_uri": "https://localhost:8080/"
        },
        "id": "9lMwyFx1FuO5",
        "outputId": "eb59e773-0952-4066-d560-5132a47b90de"
      },
      "execution_count": 4,
      "outputs": [
        {
          "output_type": "stream",
          "name": "stdout",
          "text": [
            "<Table length=2539913>\n",
            "   name    dtype     unit                    description                    class      n_bad \n",
            "--------- ------- ---------- ------------------------------------------- ------------ -------\n",
            "     TYC1   int64                    [1,9537]+= TYC1 from TYC or GSC (1) MaskedColumn       0\n",
            "     TYC2   int64                    [1,12121]  TYC2 from TYC or GSC (1) MaskedColumn       0\n",
            "     TYC3   int64                           [1,3]      TYC3 from TYC (1) MaskedColumn       0\n",
            "    pflag  bytes1                           [ PX] mean position flag (2) MaskedColumn 2417370\n",
            "   RAmdeg float64        deg       Mean Right Asc, ICRS, epoch=J2000 (3) MaskedColumn  109445\n",
            "   DEmdeg float64        deg         Mean Decl, ICRS, at epoch=J2000 (3) MaskedColumn  109445\n",
            "     pmRA float64   mas / yr           Proper motion in RA*cos(dec) (12) MaskedColumn  109445\n",
            "     pmDE float64   mas / yr                   Proper motion in Dec (12) MaskedColumn  109445\n",
            " e_RAmdeg   int64        mas          s.e. RA*cos(dec),at mean epoch (5) MaskedColumn  109445\n",
            " e_DEmdeg   int64        mas               s.e. of Dec at mean epoch (5) MaskedColumn  109445\n",
            "   e_pmRA float64   mas / yr             s.e. prop mot in RA*cos(dec)(5) MaskedColumn  109445\n",
            "   e_pmDE float64   mas / yr             s.e. of proper motion in Dec(5) MaskedColumn  109445\n",
            "    EpRAm float64         yr                        mean epoch of RA (4) MaskedColumn  109445\n",
            "    EpDEm float64         yr                       mean epoch of Dec (4) MaskedColumn  109445\n",
            "      Num   int64                               Number of positions used MaskedColumn  109445\n",
            " q_RAmdeg float64                        Goodness of fit for mean RA (6) MaskedColumn  413772\n",
            " q_DEmdeg float64                       Goodness of fit for mean Dec (6) MaskedColumn  413772\n",
            "   q_pmRA float64                           Goodness of fit for pmRA (6) MaskedColumn  413772\n",
            "   q_pmDE float64                           Goodness of fit for pmDE (6) MaskedColumn  413772\n",
            "    BTmag float64        mag                    Tycho-2 BT magnitude (7) MaskedColumn      91\n",
            "  e_BTmag float64        mag                              s.e. of BT (7) MaskedColumn      91\n",
            "    VTmag float64        mag                    Tycho-2 VT magnitude (7) MaskedColumn      20\n",
            "  e_VTmag float64        mag                              s.e. of VT (7) MaskedColumn      20\n",
            "     prox   int64 0.1 arcsec             [3,999] proximity indicator (8) MaskedColumn       0\n",
            "      TYC  bytes1                                   [T] Tycho-1 star (9) MaskedColumn 1506593\n",
            "      HIP   int64                                       Hipparcos number MaskedColumn 2420173\n",
            "     CCDM  bytes3            CCDM component identifier for HIP stars(10) MaskedColumn 2524181\n",
            "    RAdeg float64        deg      Observed Tycho-2 Right Ascension, ICRS       Column       0\n",
            "    DEdeg float64        deg          Observed Tycho-2 Declination, ICRS       Column       0\n",
            "EpRA-1990 float64         yr            [0.81,2.13]  epoch-1990 of RAdeg       Column       0\n",
            "EpDE-1990 float64         yr            [0.72,2.36]  epoch-1990 of DEdeg       Column       0\n",
            "  e_RAdeg float64        mas s.e.RA*cos(dec), of observed Tycho-2 RA (5)       Column       0\n",
            "  e_DEdeg float64        mas            s.e. of observed Tycho-2 Dec (5)       Column       0\n",
            "   posflg  bytes1                    [ DP] type of Tycho-2 solution (11) MaskedColumn 2515063\n",
            "     corr float64                       [-1,1] correlation (RAdeg,DEdeg)       Column       0\n",
            "\n",
            "<Table length=17588>\n",
            "  name   dtype     unit                  description                  class     n_bad\n",
            "------- ------- ---------- --------------------------------------- ------------ -----\n",
            "   TYC1   int64                       [2,9529]+= TYC1 from TYC (1) MaskedColumn     0\n",
            "   TYC2   int64                       [1,12112]  TYC2 from TYC (1) MaskedColumn     0\n",
            "   TYC3   int64                       [1,4]      TYC3 from TYC (1) MaskedColumn     0\n",
            "   flag  bytes1            [HT] data from Hipparcos or Tycho-1 (2)       Column     0\n",
            "  RAdeg float64        deg      Right Asc, ICRS, at epoch=J1991.25       Column     0\n",
            "  DEdeg float64        deg           Decl, ICRS, at epoch=J1991.25       Column     0\n",
            "   pmRA float64   mas / yr            Proper motion in RA*cos(dec) MaskedColumn 13082\n",
            "   pmDE float64   mas / yr                    Proper motion in Dec MaskedColumn 13082\n",
            "e_RAdeg float64        mas                        s.e. RA*cos(dec)       Column     0\n",
            "e_DEdeg float64        mas                             s.e. of Dec       Column     0\n",
            " e_pmRA float64   mas / yr          s.e. prop mot in RA * cos(dec) MaskedColumn 13082\n",
            " e_pmDE float64   mas / yr            s.e. of proper motion in Dec MaskedColumn 13082\n",
            "  mflag  bytes1             [ BVH] Note about Tycho magnitudes (3) MaskedColumn 14032\n",
            "  BTmag float64        mag                Tycho-1 BT magnitude (4) MaskedColumn  3551\n",
            "e_BTmag float64        mag                          s.e. of BT (4) MaskedColumn  3551\n",
            "  VTmag float64        mag          Tycho-1 VT or Hp magnitude (4) MaskedColumn     5\n",
            "e_VTmag float64        mag                          s.e. of VT (4) MaskedColumn     5\n",
            "   prox   int64 0.1 arcsec         [1,999] proximity indicator (5) MaskedColumn     0\n",
            "    TYC  bytes1                                  [ T] Tycho-1 star MaskedColumn  2978\n",
            "    HIP   int64                                   Hipparcos number MaskedColumn 13082\n",
            "   CCDM  bytes1            CCDM component identifier for HIP stars MaskedColumn 13820\n",
            "\n"
          ]
        }
      ]
    },
    {
      "cell_type": "markdown",
      "source": [
        "Select stars brighter than magnitude 10. We do another cut latter, but this is a quick optimization.\n",
        "\n",
        "TODO: Add proper motions. Convert from VT to V."
      ],
      "metadata": {
        "id": "4YARowTwFxM6"
      }
    },
    {
      "cell_type": "code",
      "source": [
        "mask = (tyc2[\"VTmag\"] <= 10)\n",
        "t = tyc2[mask]\n",
        "TYC = list(tyc1 + \"-\" + tyc2 + \"-\" + tyc3 for tyc1, tyc2, tyc3 in zip(t[\"TYC1\"].astype(str), t[\"TYC2\"].astype(str), t[\"TYC3\"].astype(str)))\n",
        "stars = Table([TYC, t[\"HIP\"], t[\"RAdeg\"], t[\"DEdeg\"], t[\"VTmag\"]], \n",
        "              names=[\"TYC\", \"HIP\", \"alpha\", \"delta\", \"mag\"],\n",
        "              descriptions=[\"TYC Identifier\", \"HIP Identifier\", \"Right Ascension (J2000)\", \"Declination (J2000)\", \"VT Magnitude\"])\n",
        "\n",
        "print(stars.info)"
      ],
      "metadata": {
        "colab": {
          "base_uri": "https://localhost:8080/"
        },
        "id": "Cls6s3mYGuNK",
        "outputId": "c5d2669f-65dd-4d57-d957-f2cccc69af46"
      },
      "execution_count": 5,
      "outputs": [
        {
          "output_type": "stream",
          "name": "stdout",
          "text": [
            "<Table length=327931>\n",
            " name  dtype  unit       description          class     n_bad \n",
            "----- ------- ---- ----------------------- ------------ ------\n",
            "  TYC   str12               TYC Identifier       Column      0\n",
            "  HIP   int64               HIP Identifier MaskedColumn 219796\n",
            "alpha float64  deg Right Ascension (J2000)       Column      0\n",
            "delta float64  deg     Declination (J2000)       Column      0\n",
            "  mag float64  mag            VT Magnitude MaskedColumn      0\n",
            "\n"
          ]
        }
      ]
    },
    {
      "cell_type": "markdown",
      "source": [
        "Add stars from Supplement 1 at or brighter than the limiting magnitude.\n",
        "\n",
        "TODO: Add proper motions. Convert from VT or Hp to V."
      ],
      "metadata": {
        "id": "Q0L69FQLF6hQ"
      }
    },
    {
      "cell_type": "code",
      "source": [
        "mask = (tyc2s1[\"VTmag\"] <= 10)\n",
        "ts1 = tyc2s1[mask]\n",
        "TYC = list((tyc1 + \"-\" + tyc2 + \"-\" + tyc3) for tyc1, tyc2, tyc3 in zip(ts1[\"TYC1\"].astype(str), ts1[\"TYC2\"].astype(str), ts1[\"TYC3\"].astype(str)))\n",
        "ts1 = Table([TYC, ts1[\"HIP\"], ts1[\"RAdeg\"], ts1[\"DEdeg\"], ts1[\"VTmag\"]], names=[\"TYC\", \"HIP\", \"alpha\", \"delta\", \"mag\"])\n",
        "print(ts1.info)\n",
        "\n",
        "print(len(ts1))\n",
        "for i in range(len(ts1)):\n",
        "  stars.add_row(ts1[i])\n",
        "print(stars.info)\n",
        "stars.write(\"stars.fits\", overwrite=True)"
      ],
      "metadata": {
        "colab": {
          "base_uri": "https://localhost:8080/"
        },
        "id": "-l9-5JkyF8dF",
        "outputId": "e2834868-48ee-44d1-c81b-90f6bc3bf3e6"
      },
      "execution_count": 6,
      "outputs": [
        {
          "output_type": "stream",
          "name": "stdout",
          "text": [
            "<Table length=1584>\n",
            " name  dtype  unit            description                class     n_bad\n",
            "----- ------- ---- ---------------------------------- ------------ -----\n",
            "  TYC   str12                                               Column     0\n",
            "  HIP   int64                        Hipparcos number MaskedColumn   782\n",
            "alpha float64  deg Right Asc, ICRS, at epoch=J1991.25       Column     0\n",
            "delta float64  deg      Decl, ICRS, at epoch=J1991.25       Column     0\n",
            "  mag float64  mag     Tycho-1 VT or Hp magnitude (4) MaskedColumn     0\n",
            "\n",
            "1584\n",
            "<Table length=329515>\n",
            " name  dtype  unit       description          class     n_bad \n",
            "----- ------- ---- ----------------------- ------------ ------\n",
            "  TYC   str12               TYC Identifier       Column      0\n",
            "  HIP   int64               HIP Identifier MaskedColumn 220578\n",
            "alpha float64  deg Right Ascension (J2000)       Column      0\n",
            "delta float64  deg     Declination (J2000)       Column      0\n",
            "  mag float64  mag            VT Magnitude MaskedColumn      0\n",
            "\n"
          ]
        }
      ]
    }
  ]
}